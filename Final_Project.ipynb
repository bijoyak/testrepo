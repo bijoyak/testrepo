{
  "metadata": {
    "language_info": {
      "codemirror_mode": {
        "name": "python",
        "version": 3
      },
      "file_extension": ".py",
      "mimetype": "text/x-python",
      "name": "python",
      "nbconvert_exporter": "python",
      "pygments_lexer": "ipython3",
      "version": "3.8"
    },
    "kernelspec": {
      "name": "python",
      "display_name": "Pyolite",
      "language": "python"
    }
  },
  "nbformat_minor": 4,
  "nbformat": 4,
  "cells": [
    {
      "cell_type": "markdown",
      "source": "# My Jupyter Notebook on IBM Watson Studio",
      "metadata": {}
    },
    {
      "cell_type": "markdown",
      "source": "**Bijoy AK**\n\nData Scienitst",
      "metadata": {}
    },
    {
      "cell_type": "markdown",
      "source": "_I am interested in data science because I find it exciting to help businesses make better decisions and helping them to find new opportunities_",
      "metadata": {}
    },
    {
      "cell_type": "markdown",
      "source": "### The code in cell 5 is to add numbers 12 and 22",
      "metadata": {}
    },
    {
      "cell_type": "code",
      "source": "12+22",
      "metadata": {
        "trusted": true
      },
      "execution_count": 3,
      "outputs": [
        {
          "execution_count": 3,
          "output_type": "execute_result",
          "data": {
            "text/plain": "34"
          },
          "metadata": {}
        }
      ]
    },
    {
      "cell_type": "markdown",
      "source": " ~~Scratch this.~~\n \n <a href=\"https://dataplatform.cloud.ibm.com/gallery\">IBM Cloud Gallery</a>\n \n 1. First ordered list item\n2. Another item",
      "metadata": {}
    }
  ]
}